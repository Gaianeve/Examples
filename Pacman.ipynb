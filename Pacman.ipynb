{
  "cells": [
    {
      "cell_type": "markdown",
      "metadata": {
        "id": "NNmwLx0-UAJa"
      },
      "source": [
        "# Burocracy\n",
        "1. checking GPU\n",
        "2. install dependencies\n",
        "3. import libraries"
      ]
    },
    {
      "cell_type": "code",
      "execution_count": null,
      "metadata": {
        "colab": {
          "base_uri": "https://localhost:8080/",
          "height": 227
        },
        "id": "9MhA4PKYUFce",
        "outputId": "887c4b26-1ed0-4a91-d655-31fbd58c2f41"
      },
      "outputs": [
        {
          "output_type": "error",
          "ename": "SystemError",
          "evalue": "ignored",
          "traceback": [
            "\u001b[0;31m---------------------------------------------------------------------------\u001b[0m",
            "\u001b[0;31mSystemError\u001b[0m                               Traceback (most recent call last)",
            "\u001b[0;32m<ipython-input-3-2eab70ff579f>\u001b[0m in \u001b[0;36m<cell line: 4>\u001b[0;34m()\u001b[0m\n\u001b[1;32m      3\u001b[0m \u001b[0mdevice_name\u001b[0m \u001b[0;34m=\u001b[0m \u001b[0mtf\u001b[0m\u001b[0;34m.\u001b[0m\u001b[0mtest\u001b[0m\u001b[0;34m.\u001b[0m\u001b[0mgpu_device_name\u001b[0m\u001b[0;34m(\u001b[0m\u001b[0;34m)\u001b[0m\u001b[0;34m\u001b[0m\u001b[0;34m\u001b[0m\u001b[0m\n\u001b[1;32m      4\u001b[0m \u001b[0;32mif\u001b[0m \u001b[0mdevice_name\u001b[0m \u001b[0;34m!=\u001b[0m \u001b[0;34m'/device:GPU:0'\u001b[0m\u001b[0;34m:\u001b[0m\u001b[0;34m\u001b[0m\u001b[0;34m\u001b[0m\u001b[0m\n\u001b[0;32m----> 5\u001b[0;31m   \u001b[0;32mraise\u001b[0m \u001b[0mSystemError\u001b[0m\u001b[0;34m(\u001b[0m\u001b[0;34m'GPU device not found'\u001b[0m\u001b[0;34m)\u001b[0m\u001b[0;34m\u001b[0m\u001b[0;34m\u001b[0m\u001b[0m\n\u001b[0m\u001b[1;32m      6\u001b[0m \u001b[0mprint\u001b[0m\u001b[0;34m(\u001b[0m\u001b[0;34m'Found GPU at: {}'\u001b[0m\u001b[0;34m.\u001b[0m\u001b[0mformat\u001b[0m\u001b[0;34m(\u001b[0m\u001b[0mdevice_name\u001b[0m\u001b[0;34m)\u001b[0m\u001b[0;34m)\u001b[0m\u001b[0;34m\u001b[0m\u001b[0;34m\u001b[0m\u001b[0m\n",
            "\u001b[0;31mSystemError\u001b[0m: GPU device not found"
          ]
        }
      ],
      "source": [
        "##1. setting gpu\n",
        "import tensorflow as tf\n",
        "device_name = tf.test.gpu_device_name()\n",
        "if device_name != '/device:GPU:0':\n",
        "  raise SystemError('GPU device not found')\n",
        "print('Found GPU at: {}'.format(device_name))"
      ]
    },
    {
      "cell_type": "code",
      "execution_count": null,
      "metadata": {
        "id": "M3MQIZX-UF68"
      },
      "outputs": [],
      "source": [
        "## 2. installation: some of these are requiered for pacman environment\n",
        "\n",
        "!pip install gym pyvirtualdisplay > /dev/null 2>&1\n",
        "!apt-get update > /dev/null 2>&1\n",
        "!apt-get install cmake > /dev/null 2>&1\n",
        "!pip install --upgrade setuptools 2>&1\n",
        "!pip install ez_setup > /dev/null 2>&1\n",
        "!pip install gym[atari] > /dev/null 2>&1\n",
        "!apt-get install -y xvfb python-opengl ffmpeg > /dev/null\n",
        "\n",
        "!apt-get install x11-utils > /dev/null 2>&1\n",
        "!pip install pyglet > /dev/null 2>&1"
      ]
    },
    {
      "cell_type": "code",
      "execution_count": null,
      "metadata": {
        "id": "zq2z9pJkgmuc"
      },
      "outputs": [],
      "source": [
        "#installing gym things for atari. Guess u need this version here\n",
        "!pip install -U gym>=0.21.0\n",
        "!pip install -U gym[atari,accept-rom-license]"
      ]
    },
    {
      "cell_type": "code",
      "execution_count": null,
      "metadata": {
        "id": "T-XMgovrUJW5"
      },
      "outputs": [],
      "source": [
        "import gym\n",
        "import numpy as np\n",
        "from matplotlib import pyplot\n",
        "import matplotlib.pyplot as plt\n",
        "#display plot in a notebook\n",
        "%matplotlib inline\n",
        "import random\n",
        "from collections import deque, Counter\n",
        "from datetime import datetime\n",
        "\n",
        "# ML libraries\n",
        "import tensorflow as tf\n",
        "fimport matplotlib.pyplot as plt\n",
        "from tensorflow.keras.optimizers import Adam\n",
        "from tensorflow.keras.models import Sequential\n",
        "from tensorflow.keras.layers import Dense, Activation, Flatten\n",
        "\n",
        "#graphic render of the environment\n",
        "from IPython import display as ipythondisplay"
      ]
    },
    {
      "cell_type": "markdown",
      "metadata": {
        "id": "6UgqWZzAXngb"
      },
      "source": [
        "# Pacman environment\n",
        "the goal is to teach the computer to play Pacman. Let's look at the environment"
      ]
    },
    {
      "cell_type": "code",
      "execution_count": null,
      "metadata": {
        "colab": {
          "background_save": true
        },
        "id": "OfuAVtwkduiq"
      },
      "outputs": [],
      "source": [
        "#needed but don't know why, guess it's something with ale. Still, this way it works\n",
        "from ale_py import ALEInterface\n",
        "ale = ALEInterface()\n",
        "\n",
        "from ale_py.roms import MsPacman\n",
        "ale.loadROM(MsPacman)"
      ]
    },
    {
      "cell_type": "code",
      "execution_count": null,
      "metadata": {
        "id": "Dn6lPUHVXwTR"
      },
      "outputs": [],
      "source": [
        "env = gym.make('ALE/MsPacman-v5', render_mode=\"rgb_array\")\n",
        "## useful if u want to look at the environment\n",
        "#prev_screen = env.render()\n",
        "#plt.imshow(prev_screen)\n",
        "#ipythondisplay.clear_output(wait=True)"
      ]
    },
    {
      "cell_type": "markdown",
      "metadata": {
        "id": "Gwy6xqRl1w-1"
      },
      "source": [
        "# Process image\n",
        "Now we define a function called preprocess_observation for preprocessing our input game screen. We reduce the image size and convert the image into greyscale.\n",
        "\n"
      ]
    },
    {
      "cell_type": "code",
      "execution_count": null,
      "metadata": {
        "id": "t9S96lKofWK0"
      },
      "outputs": [],
      "source": [
        "#functions for preprocessing\n",
        "\n",
        "def cropping(start_obs):\n",
        "  # Cropping image: to choose the value, u should look at the image\n",
        "  img = start_obs[1:176:2,::2]\n",
        "  #show modified image\n",
        "  '''\n",
        "  print('Cropping image')\n",
        "  plt.imshow(img)\n",
        "  ipythondisplay.clear_output(wait=True)\n",
        "  '''\n",
        "  return img\n",
        "\n",
        "def to_greyscale(img):\n",
        "  # Convert the image to greyscale\n",
        "  img = img.mean(axis=2)\n",
        "  #show modified image\n",
        "  '''\n",
        "  print('Turn to greyscale')\n",
        "  plt.imshow(img)\n",
        "  ipythondisplay.clear_output(wait=True)\n",
        "  '''\n",
        "  return img\n",
        "\n",
        "def improve_contrast(img):\n",
        "  # Improve image contrast\n",
        "  color = np.array([210, 164, 74]).mean()\n",
        "  img[img==color] = 0\n",
        "  #show modified image\n",
        "  '''\n",
        "  print('More contrast')\n",
        "  plt.imshow(img)\n",
        "  ipythondisplay.clear_output(wait=True)\n",
        "  '''\n",
        "  return img\n",
        "\n",
        "def normalize(img):\n",
        "  #Normalize the image from -1 to +1\n",
        "  img = (img - 128) / 128 - 1\n",
        "  #show modified image\n",
        "  '''\n",
        "  print('Normalize')\n",
        "  plt.imshow(img)\n",
        "  ipythondisplay.clear_output(wait=True)\n",
        "  '''\n",
        "  return img"
      ]
    },
    {
      "cell_type": "markdown",
      "source": [
        "**REMEMBER: gotta pass to preprocess_observation, observation[0], and not all the observation matrix**"
      ],
      "metadata": {
        "id": "2TpE0w81pjAo"
      }
    },
    {
      "cell_type": "code",
      "execution_count": null,
      "metadata": {
        "id": "JefjATHMUWVe"
      },
      "outputs": [],
      "source": [
        "def preprocess_observation(obs):\n",
        "  #1. crop\n",
        "  image = cropping(obs)\n",
        "  #2. greyscale\n",
        "  image = to_greyscale(image)\n",
        "  #3. contrast\n",
        "  image = improve_contrast(image)\n",
        "  #4. normalize in [-1;+1]\n",
        "  image = normalize(image)\n",
        "  # 5. reshape image\n",
        "  image = image.reshape(88,80,1)\n",
        "  return image"
      ]
    },
    {
      "cell_type": "markdown",
      "source": [
        "# Building Q network\n",
        "Q network is the predicting network, which is used to predict the weights. The input is the game state X. The output has the dimension of the action space, so it's one place for one action.\n",
        "\n",
        "The Q network below has three convolutional layers with SAME padding, followed by a fully connected layer."
      ],
      "metadata": {
        "id": "SHobCE0sqJCw"
      }
    },
    {
      "cell_type": "code",
      "source": [],
      "metadata": {
        "id": "KT22Ggi7oa04"
      },
      "execution_count": null,
      "outputs": []
    },
    {
      "cell_type": "markdown",
      "source": [
        "**NOTE**: the name 'SAME' padding just came from the property that when stride equals 1, output spatial shape is the same as input spatial shape. In general case, the definition of 'SAME' means to apply the padding in a tensorflow way such that:\n",
        "\n",
        "*For each spatial dimension i:\n",
        "output_spatial_shape[i] = ceil(input_spatial_shape[i] / strides[i])*.\n",
        "\n",
        "\n",
        "Basically, padding = 'SAME' concers the dimention of input and output."
      ],
      "metadata": {
        "id": "S3119sbZs-MO"
      }
    },
    {
      "cell_type": "code",
      "source": [],
      "metadata": {
        "id": "p8pqBn5etbLc"
      },
      "execution_count": null,
      "outputs": []
    }
  ],
  "metadata": {
    "accelerator": "GPU",
    "colab": {
      "toc_visible": true,
      "provenance": [],
      "gpuType": "T4"
    },
    "kernelspec": {
      "display_name": "Python 3",
      "name": "python3"
    },
    "language_info": {
      "name": "python"
    }
  },
  "nbformat": 4,
  "nbformat_minor": 0
}